{
 "cells": [
  {
   "metadata": {},
   "cell_type": "markdown",
   "source": [
    "## 1. УСЛОВНЫЕ ОПЕРАТОРЫ\n",
    "\n",
    "### Задание 1.1: Калькулятор оценок\n",
    "Напишите программу, которая принимает числовую оценку (0-100) и выводит соответствующую буквенную оценку:\n",
    "- 90-100: A\n",
    "- 80-89: B\n",
    "- 70-79: C\n",
    "- 60-69: D\n",
    "- 0-59: F\n",
    "\n",
    "Используйте как обычные if-elif-else конструкции, так и match-case.\n",
    "\n",
    "### Задание 1.2: Проверка года на високосность\n",
    "Создайте функцию, которая определяет, является ли год високосным. Год високосный, если:\n",
    "- Он делится на 4, но не на 100, ИЛИ\n",
    "- Он делится на 400\n",
    "\n",
    "### Задание 1.3: Классификация треугольников\n",
    "Напишите программу, которая по трем сторонам треугольника определяет его тип:\n",
    "- Равносторонний (все стороны равны)\n",
    "- Равнобедренный (две стороны равны)\n",
    "- Разносторонний (все стороны разные)\n",
    "- Не является треугольником (сумма двух сторон меньше третьей)"
   ],
   "id": "7099a85746bc8b73"
  },
  {
   "metadata": {
    "collapsed": true,
    "ExecuteTime": {
     "end_time": "2025-09-09T14:57:45.452934Z",
     "start_time": "2025-09-09T14:57:45.444758Z"
    }
   },
   "cell_type": "code",
   "source": [
    "#задание 1.1\n",
    "def num_mark(mark: int) -> str:\n",
    "    assert isinstance(mark, int), \"Число должно быть целым\"\n",
    "    assert mark>=0 or mark<=100, \"Число должно лежать в диапазоне от 0 до 100\"\n",
    "    if mark >= 90: return 'A'\n",
    "    elif mark >= 80: return 'B'\n",
    "    elif mark >= 70: return 'C'\n",
    "    elif mark >= 60: return 'D'\n",
    "    else: return 'F'\n",
    "\n"
   ],
   "id": "39aef90e9e22f6bc",
   "outputs": [
    {
     "name": "stdout",
     "output_type": "stream",
     "text": [
      "A\n"
     ]
    }
   ],
   "execution_count": 17
  },
  {
   "metadata": {
    "ExecuteTime": {
     "end_time": "2025-09-09T17:47:15.638979Z",
     "start_time": "2025-09-09T17:47:15.617834Z"
    }
   },
   "cell_type": "code",
   "source": [
    "#задание 1.2\n",
    "def v_year (year: int) -> bool:\n",
    "    assert isinstance(year, int), \"Число должно быть целым\"\n",
    "    assert year >= 1918, \"Григорианский календарь появился в 1918 году\"\n",
    "    if year % 4 ==0 and year % 100 !=0 or year % 400 ==0:\n",
    "        return True\n",
    "    else:\n",
    "        return False\n"
   ],
   "id": "cc15d4c6a21661f7",
   "outputs": [],
   "execution_count": 18
  },
  {
   "metadata": {
    "ExecuteTime": {
     "end_time": "2025-09-09T18:49:05.141345Z",
     "start_time": "2025-09-09T18:49:05.102970Z"
    }
   },
   "cell_type": "code",
   "source": [
    "#задание 1.3\n",
    "def triangle_type(a: int, b: int, c: int)->str:\n",
    "    assert isinstance(a, int) and isinstance(b, int) and isinstance(c, int), \"Числа должны быть целыми\"\n",
    "    assert a>0 and b>0 and c>0, \"Стороны должны иметь положительные значения\"\n",
    "    tr = sorted(set([a,b,c]))\n",
    "    if len(tr)==1:\n",
    "        return 'Равносторонний треугольник'\n",
    "    elif len(tr)==2 and 2*tr[0] > tr[1]:\n",
    "        return 'Равнобедренный треугольник'\n",
    "    elif len(tr)==3 and tr[0] + tr[1] > tr[2]:\n",
    "        return 'Разносторонний треугольник'\n",
    "    else:\n",
    "        return 'Это не треугольник'\n"
   ],
   "id": "6ba8bc76a9dc1a44",
   "outputs": [],
   "execution_count": 42
  },
  {
   "metadata": {},
   "cell_type": "markdown",
   "source": [
    "## 2. ЦИКЛЫ\n",
    "\n",
    "### Задание 2.1: Таблица умножения\n",
    "Создайте программу, которая выводит таблицу умножения от 1 до 10. Используйте вложенные циклы for.\n",
    "\n",
    "### Задание 2.2: Поиск простых чисел\n",
    "Напишите функцию, которая находит все простые числа от 2 до заданного числа n. Используйте цикл for и проверку делимости.\n",
    "\n",
    "### Задание 2.3: Игра \"Угадай число\"\n",
    "Создайте игру, где компьютер загадывает случайное число от 1 до 100, а пользователь пытается его угадать. Программа должна:\n",
    "- Генерировать случайное число\n",
    "- Принимать ввод от пользователя\n",
    "- Давать подсказки \"больше\" или \"меньше\"\n",
    "- Считать количество попыток\n",
    "- Использовать цикл while\n",
    "\n",
    "### Задание 2.4: Анализ текста\n",
    "Напишите программу, которая анализирует текст и выводит:\n",
    "- Количество символов\n",
    "- Количество слов\n",
    "- Количество предложений\n",
    "- Самые частые слова (топ-5)\n",
    "\n",
    "Используйте циклы for для обработки текста.\n"
   ],
   "id": "71539770ae3422e2"
  },
  {
   "metadata": {
    "ExecuteTime": {
     "end_time": "2025-09-09T19:09:46.680017Z",
     "start_time": "2025-09-09T19:09:46.668600Z"
    }
   },
   "cell_type": "code",
   "source": [
    "#задание 2.1\n",
    "def multy_table():\n",
    "    print(\"Таблица умножения от 1 до 10:\")\n",
    "    print(\"-\" * 100)\n",
    "    for i in range(1, 11):\n",
    "        for j in range(1, 11):\n",
    "            print(f\"{i} × {j} = {i*j}\", end=\"   \")\n",
    "        print()"
   ],
   "id": "c6ec5373589cbd7b",
   "outputs": [],
   "execution_count": 49
  },
  {
   "metadata": {
    "ExecuteTime": {
     "end_time": "2025-09-09T20:07:43.165305Z",
     "start_time": "2025-09-09T20:07:43.145984Z"
    }
   },
   "cell_type": "code",
   "source": [
    "#задание 2.2\n",
    "def simples(n: int) -> list:\n",
    "    assert isinstance(n, int), \"Число должно быть целым\"\n",
    "    assert n > 0, \"Число должно быть больше 0\"\n",
    "\n",
    "    p = []\n",
    "    for i in range(2, n + 1):\n",
    "        is_prime = True\n",
    "        for j in range(2, int(i**0.5) + 1):\n",
    "            if i % j == 0:\n",
    "                is_prime = False\n",
    "                break\n",
    "        if is_prime:\n",
    "            p.append(i)\n",
    "    return p"
   ],
   "id": "a06946cb43de99a2",
   "outputs": [
    {
     "name": "stdout",
     "output_type": "stream",
     "text": [
      "[2, 3, 5, 7, 11, 13, 17, 19, 23, 29, 31, 37, 41, 43, 47, 53, 59, 61, 67, 71, 73, 79, 83, 89, 97, 101, 103]\n"
     ]
    }
   ],
   "execution_count": 68
  },
  {
   "metadata": {
    "ExecuteTime": {
     "end_time": "2025-09-09T21:29:39.188832Z",
     "start_time": "2025-09-09T21:29:39.169248Z"
    }
   },
   "cell_type": "code",
   "source": [
    "#задание 2.3\n",
    "from random import randint\n",
    "\n",
    "def play():\n",
    "    print('Я загадал число от 1 до 100. Попробуй угадать мое число!')\n",
    "    x = randint(1, 100)\n",
    "    a=-1\n",
    "    while a !=x:\n",
    "        a=input('Что думаешь')\n",
    "        try:\n",
    "            a=int(a)\n",
    "        except:\n",
    "            print(\"Число должно быть целым\")\n",
    "        assert a > 0, \"Число должно быть больше 0\"\n",
    "        if a<x:\n",
    "            print('Больше!')\n",
    "        elif a>x:\n",
    "            print('Меньше!')\n",
    "    print(f\"Молодец! Я и правда загадал число {x}\")\n"
   ],
   "id": "6b4cdfc6fc4ee6f8",
   "outputs": [],
   "execution_count": 115
  },
  {
   "metadata": {
    "ExecuteTime": {
     "end_time": "2025-09-10T14:23:47.930654Z",
     "start_time": "2025-09-10T14:23:47.841972Z"
    }
   },
   "cell_type": "code",
   "source": [
    "def analyze_text_efficient(text: str):\n",
    "    assert isinstance(text, str), 'Необходимо ввести данные формата строка'\n",
    "    if not text or text.isspace():\n",
    "        return 0, 0, 0, []\n",
    "\n",
    "    # Счетчики\n",
    "    char_count = 0\n",
    "    word_count = 0\n",
    "    sentence_count = 0\n",
    "    in_word = False\n",
    "    current_word = ''\n",
    "    word_freq = {}\n",
    "\n",
    "    for char in text:\n",
    "        char_count += 1\n",
    "\n",
    "        # Проверка на конец предложения\n",
    "        if char in '.!?':\n",
    "            sentence_count += 1\n",
    "\n",
    "        # Проверка на букву/цифру\n",
    "        if char.isalnum() or char == \"'\":\n",
    "            current_word += char.lower()\n",
    "            if not in_word:\n",
    "                word_count += 1\n",
    "                in_word = True\n",
    "        else:\n",
    "            # Конец слова - добавляю в статистику\n",
    "            if current_word:\n",
    "                if len(current_word) > 2:  # Игнорируем короткие слова\n",
    "                    if current_word in word_freq:\n",
    "                        word_freq[current_word] += 1\n",
    "                    else:\n",
    "                        word_freq[current_word] = 1\n",
    "                current_word = ''\n",
    "            in_word = False\n",
    "\n",
    "    # Обработка последнего слова\n",
    "    if current_word:\n",
    "        if len(current_word) > 2:\n",
    "            if current_word in word_freq:\n",
    "                word_freq[current_word] += 1\n",
    "            else:\n",
    "                word_freq[current_word] = 1\n",
    "\n",
    "    # Проверка для текстов без точек\n",
    "    if sentence_count == 0 and word_count > 0:\n",
    "        sentence_count = 1\n",
    "\n",
    "    # Получаем топ-5 слов\n",
    "    if word_freq:\n",
    "        top_words = sorted(word_freq.items(), key=lambda x: x[1], reverse=True)[:5]\n",
    "    else:\n",
    "        top_words = []\n",
    "\n",
    "    return char_count, word_count, sentence_count, top_words\n",
    "\n",
    "\n",
    "def print_analysis_results(text):\n",
    "    chars, words, sentences, top_words = analyze_text_efficient(text)\n",
    "\n",
    "    print(\"АНАЛИЗ ТЕКСТА\")\n",
    "    print()\n",
    "    print(f\"Количество символов: {chars}\")\n",
    "    print(f\"Количество слов: {words}\")\n",
    "    print(f\"Количество предложений: {sentences}\")\n",
    "\n",
    "\n",
    "    # Топ-5 машин\n",
    "    if top_words:\n",
    "        print(\"\\nТоп-5 самых частых слов:\")\n",
    "        for i, (word, count) in enumerate(top_words, 1):\n",
    "            print(f\"   {i}. '{word}' - {count} раз(а)\")\n",
    "    else:\n",
    "        print(\"\\nНе найдено слов для статистики\")\n",
    "\n",
    "\n",
    "\n",
    "\n"
   ],
   "id": "85bbc14283eee9ff",
   "outputs": [],
   "execution_count": 120
  },
  {
   "metadata": {},
   "cell_type": "markdown",
   "source": [
    "Битовый ИСКЛЮЧАЮШИЙ ИЛИ ^ : или А, или Б', is_false ^ is_true # True## 3. ОБРАБОТКА ОШИБОК\n",
    "\n",
    "### Задание 3.1: Безопасный калькулятор\n",
    "Создайте калькулятор, который безопасно выполняет арифметические операции:\n",
    "- Принимает два числа и операцию (+, -, *, /)\n",
    "- Обрабатывает деление на ноль\n",
    "- Обрабатывает неверный ввод (не числа)\n",
    "- Обрабатывает неверные операции\n",
    "- Использует try-except-finally блоки"
   ],
   "id": "826822805b0e812f"
  },
  {
   "metadata": {
    "ExecuteTime": {
     "end_time": "2025-09-09T21:19:27.595378Z",
     "start_time": "2025-09-09T21:19:27.574453Z"
    }
   },
   "cell_type": "code",
   "source": [
    "#задание 3.1\n",
    "def my_calculator():\n",
    "    print(\"КАЛЬКУЛЯТОР\")\n",
    "\n",
    "    try:\n",
    "        num1 = float(input(\"Введите первое число: \"))\n",
    "        operation = input(\"Введите операцию (+, -, *, /): \")\n",
    "        num2 = float(input(\"Введите второе число: \"))\n",
    "\n",
    "        if operation == '+':\n",
    "            result = num1 + num2\n",
    "        elif operation == '-':\n",
    "            result = num1 - num2\n",
    "        elif operation == '*':\n",
    "            result = num1 * num2\n",
    "        elif operation == '/':\n",
    "            if num2 == 0:\n",
    "                print(\"Ошибка: Деление на ноль невозможно!\")\n",
    "                return\n",
    "            result = num1 / num2\n",
    "        else:\n",
    "            print(\"Ошибка: Неверная операция! Используйте +, -, *, /\")\n",
    "            return\n",
    "\n",
    "        print(f\"Результат: {num1} {operation} {num2} = {result}\")\n",
    "\n",
    "    except ValueError:\n",
    "        print(\"Ошибка: Введите числа правильно!\")\n",
    "\n",
    "    except Exception as e:\n",
    "        print(f\"Произошла ошибка: {e}\")\n",
    "\n",
    "    finally:\n",
    "        print(\"Работа завершена\")\n"
   ],
   "id": "6cde51e84b8f15c",
   "outputs": [],
   "execution_count": 110
  }
 ],
 "metadata": {
  "kernelspec": {
   "display_name": "Python 3",
   "language": "python",
   "name": "python3"
  },
  "language_info": {
   "codemirror_mode": {
    "name": "ipython",
    "version": 2
   },
   "file_extension": ".py",
   "mimetype": "text/x-python",
   "name": "python",
   "nbconvert_exporter": "python",
   "pygments_lexer": "ipython2",
   "version": "2.7.6"
  }
 },
 "nbformat": 4,
 "nbformat_minor": 5
}
