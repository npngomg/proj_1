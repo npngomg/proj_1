{
 "cells": [
  {
   "metadata": {},
   "cell_type": "markdown",
   "source": [
    "## 3. ОБРАБОТКА ОШИБОК\n",
    "\n",
    "\n",
    "### Задание 3.2: Чтение файла с обработкой ошибок\n",
    "Напишите функцию, которая:\n",
    "- Пытается прочитать файл\n",
    "- Обрабатывает FileNotFoundError\n",
    "- Обрабатывает PermissionError\n",
    "- Обрабатывает UnicodeDecodeError\n",
    "- Всегда выводит сообщение о завершении операции (finally)\n",
    "\n",
    "### Задание 3.3: Кастомные исключения\n",
    "Создайте систему кастомных исключений для банковского приложения:\n",
    "- InsufficientFundsError (недостаточно средств)\n",
    "- InvalidAccountError (неверный номер счета)\n",
    "- TransactionLimitError (превышен лимит транзакций)\n",
    "- Реализуйте класс BankAccount с методами deposit, withdraw, transfer\n",
    "- Используйте ваши кастомные исключения\n"
   ],
   "id": "54da5cd336d08068"
  },
  {
   "metadata": {
    "ExecuteTime": {
     "end_time": "2025-09-11T21:06:58.616950Z",
     "start_time": "2025-09-11T21:06:58.598249Z"
    }
   },
   "cell_type": "code",
   "source": [
    "#задание 3.2\n",
    "def read_file(a: str)->str:\n",
    "    try:\n",
    "        with open(a) as f:\n",
    "            content = f.read()\n",
    "            return content\n",
    "    except FileNotFoundError:\n",
    "        print('File not found')\n",
    "        return None\n",
    "    except PermissionError:\n",
    "        print('Permission denied')\n",
    "        return None\n",
    "    except UnicodeDecodeError:\n",
    "        print('Decode error')\n",
    "        return None\n",
    "    finally:\n",
    "        print('File closed')\n",
    "\n"
   ],
   "id": "38733c525d10fbd1",
   "outputs": [],
   "execution_count": 5
  },
  {
   "metadata": {
    "ExecuteTime": {
     "end_time": "2025-09-11T21:06:58.500694600Z",
     "start_time": "2025-09-11T17:37:17.248877Z"
    }
   },
   "cell_type": "code",
   "source": "read_file('D:\\\\Ansys.Products.2019R3.Win64-SSQ\\\\_SolidSQUAD_\\\\ANSYS 2019R3 crack with local license (server setup is not needed)\\\\readme_local_crack_ssq.txt')",
   "id": "c9e3c7b40ec6be4f",
   "outputs": [
    {
     "name": "stdout",
     "output_type": "stream",
     "text": [
      "File closed\n"
     ]
    },
    {
     "data": {
      "text/plain": [
       "'1. Install ANSYS Products 2019R3 Win64 \\n   Do not install ANSYS License Manager. \\n   Skip licensing!\\n\\n2. Overwrite original <ANSYS Inc program folder> \\n   (at setup by default C:\\\\Program Files\\\\ANSYS Inc ) with cracked one\\n\\n3. Enjoy!\\n\\nCracked by TeAM SolidSQUAD-SSQ'"
      ]
     },
     "execution_count": 11,
     "metadata": {},
     "output_type": "execute_result"
    }
   ],
   "execution_count": 11
  },
  {
   "metadata": {
    "ExecuteTime": {
     "end_time": "2025-09-11T21:06:58.512261600Z",
     "start_time": "2025-09-11T20:25:23.704731Z"
    }
   },
   "cell_type": "code",
   "source": [
    "class InsufficientFundsError(Exception):\n",
    "    def __init__(self):\n",
    "        super().__init__(\"Недостаточно средств на счете\")\n",
    "\n",
    "class InvalidAccountError(Exception):\n",
    "    def __init__(self):\n",
    "        super().__init__(\"Аккаунта с таким номером не существует\")\n",
    "\n",
    "class TransactionLimitError(Exception):\n",
    "    def __init__(self):\n",
    "        super().__init__(\"Превышен лимит операций\")\n",
    "\n",
    "class BankAccount:\n",
    "    all_accounts = {}\n",
    "\n",
    "    def __init__(self, account_number: int, initial_balance: int = 0) -> None:\n",
    "        self.account_number = account_number  # меняем на account_number\n",
    "        self.balance = initial_balance\n",
    "        self.lim = 3\n",
    "        self.operations = 0\n",
    "        BankAccount.all_accounts[account_number] = self\n",
    "\n",
    "    def deposit(self, amount: int) -> str:\n",
    "        if self.operations >= self.lim:  # >= вместо ==\n",
    "            raise TransactionLimitError\n",
    "        self.balance += amount\n",
    "        self.operations += 1\n",
    "        return f'Счет пополнен на {amount}'\n",
    "\n",
    "    def withdraw(self, amount: int) -> str:\n",
    "        if self.operations >= self.lim:\n",
    "            raise TransactionLimitError\n",
    "        elif amount > self.balance:\n",
    "            raise InsufficientFundsError\n",
    "        self.balance -= amount\n",
    "        self.operations += 1\n",
    "        return f'Со счета снято {amount}'\n",
    "\n",
    "    def transfer(self, amount: int, another_number: int) -> str:\n",
    "        target_account = BankAccount.all_accounts.get(another_number)\n",
    "        if target_account is None:\n",
    "            raise InvalidAccountError\n",
    "        if self.operations >= self.lim:\n",
    "            raise TransactionLimitError\n",
    "        if amount > self.balance:\n",
    "            raise InsufficientFundsError\n",
    "        self.balance -= amount\n",
    "        target_account.balance += amount\n",
    "        self.operations += 1\n",
    "        return f'Перевод {amount} рублей от {self.account_number} для {target_account.account_number}'"
   ],
   "id": "bd3b6d12cf589159",
   "outputs": [],
   "execution_count": 1
  },
  {
   "metadata": {
    "ExecuteTime": {
     "end_time": "2025-09-11T21:06:58.515251100Z",
     "start_time": "2025-09-11T20:39:21.866691Z"
    }
   },
   "cell_type": "code",
   "source": [
    "# Создаем счета\n",
    "acc1 = BankAccount(12345, 1000)\n",
    "acc2 = BankAccount(67890, 500)\n"
   ],
   "id": "22e149561dc163fc",
   "outputs": [],
   "execution_count": 4
  }
 ],
 "metadata": {
  "kernelspec": {
   "display_name": "Python 3",
   "language": "python",
   "name": "python3"
  },
  "language_info": {
   "codemirror_mode": {
    "name": "ipython",
    "version": 2
   },
   "file_extension": ".py",
   "mimetype": "text/x-python",
   "name": "python",
   "nbconvert_exporter": "python",
   "pygments_lexer": "ipython2",
   "version": "2.7.6"
  }
 },
 "nbformat": 4,
 "nbformat_minor": 5
}
