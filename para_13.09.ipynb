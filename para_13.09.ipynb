{
 "cells": [
  {
   "cell_type": "code",
   "id": "initial_id",
   "metadata": {
    "collapsed": true,
    "ExecuteTime": {
     "end_time": "2025-09-20T22:13:48.524030Z",
     "start_time": "2025-09-20T22:13:48.507722Z"
    }
   },
   "source": [
    "import math\n",
    "from typing import Generator\n",
    "\n",
    "def exponential_series_sum(x: float) -> Generator[float, None, None]:\n",
    "    #Вариант 1: Генератор сумм (yields частичные суммы)\n",
    "    term = 1.0\n",
    "    total = term\n",
    "    n = 0\n",
    "    factorial = 1\n",
    "\n",
    "    yield total\n",
    "\n",
    "    while True:\n",
    "        n += 1\n",
    "        factorial *= n\n",
    "        term = (x ** n) / factorial\n",
    "        total += term\n",
    "        yield total\n",
    "\n",
    "def exponential_series_terms(x: float) -> Generator[float, None, None]:\n",
    "    #Вариант 2: Генератор членов ряда (yields отдельные члены)\n",
    "    term = 1.0\n",
    "    n = 0\n",
    "    factorial = 1\n",
    "\n",
    "    yield term\n",
    "\n",
    "    while True:\n",
    "        n += 1\n",
    "        factorial *= n\n",
    "        term = (x ** n) / factorial\n",
    "        yield term\n",
    "\n",
    "# Тестирование\n",
    "x = 1.0\n",
    "eps = 1e-3\n",
    "\n",
    "print(\"=\" * 50)\n",
    "print(\"Вариант 1: Сравнение разности сумм\")\n",
    "gen_sum = exponential_series_sum(x)\n",
    "prev = next(gen_sum)\n",
    "for i, current in enumerate(gen_sum, 1):\n",
    "    if abs(current - prev) < eps:\n",
    "        print(f\"Итераций: {i}, Результат: {current:.10f}\")\n",
    "        break\n",
    "    prev = current\n",
    "\n",
    "print(\"\\nВариант 2: Сравнение члена ряда\")\n",
    "gen_terms = exponential_series_terms(x)\n",
    "total = 0.0\n",
    "for i, term in enumerate(gen_terms):\n",
    "    total += term\n",
    "    if abs(term) < eps:\n",
    "        print(f\"Итераций: {i+1}, Результат: {total:.10f}\")\n",
    "        break\n",
    "\n",
    "print(f\"\\nТочное значение: {math.exp(x):.10f}\")"
   ],
   "outputs": [
    {
     "name": "stdout",
     "output_type": "stream",
     "text": [
      "==================================================\n",
      "Вариант 1: Сравнение разности сумм\n",
      "Итераций: 7, Результат: 2.7182539683\n",
      "\n",
      "Вариант 2: Сравнение члена ряда\n",
      "Итераций: 8, Результат: 2.7182539683\n",
      "\n",
      "Точное значение: 2.7182818285\n"
     ]
    }
   ],
   "execution_count": 4
  },
  {
   "metadata": {
    "ExecuteTime": {
     "end_time": "2025-09-20T22:25:51.916347Z",
     "start_time": "2025-09-20T22:25:51.880879Z"
    }
   },
   "cell_type": "code",
   "source": [
    "from typing import Callable, List\n",
    "\n",
    "def grad(f: Callable[[List[float]], float], eps: float = 0.0001) -> Callable[[List[float]], List[float]]:\n",
    "    def func(x: List[float]) -> List[float]:\n",
    "        n = len(x)\n",
    "        gradient_vector = []\n",
    "\n",
    "        for i in range(n):\n",
    "            # Создаем копии с возмущениями по i-ой координате\n",
    "            x_plus = x.copy()\n",
    "            x_minus = x.copy()\n",
    "\n",
    "            x_plus[i] += eps\n",
    "            x_minus[i] -= eps\n",
    "\n",
    "            # Центральная разностная схема\n",
    "            partial_derivative = (f(x_plus) - f(x_minus)) / (2 * eps)\n",
    "            gradient_vector.append(partial_derivative)\n",
    "\n",
    "        return gradient_vector\n",
    "    return func\n",
    "\n",
    "def any_name(x: List[float]) -> float:\n",
    "#f(x, y, z) = x² + y² + z² + 0.5\"\"\"\n",
    "    return sum(x_i ** 2 for x_i in x) + 0.5\n",
    "\n",
    "derivative = grad(f=any_name, eps=0.0001)\n",
    "result = derivative([1.0, 2.0, 3.0])\n",
    "\n",
    "print(f\"Градиент в точке [1, 2, 3]: {result}\")\n",
    "print(f\"Ожидаемый результат: [2.0, 4.0, 6.0]\")"
   ],
   "id": "7b67a9cf7bd4bcf4",
   "outputs": [
    {
     "name": "stdout",
     "output_type": "stream",
     "text": [
      "Градиент в точке [1, 2, 3]: [2.0000000000042206, 3.9999999999995595, 6.000000000012662]\n",
      "Ожидаемый результат: [2.0, 4.0, 6.0]\n"
     ]
    }
   ],
   "execution_count": 6
  }
 ],
 "metadata": {
  "kernelspec": {
   "display_name": "Python 3",
   "language": "python",
   "name": "python3"
  },
  "language_info": {
   "codemirror_mode": {
    "name": "ipython",
    "version": 2
   },
   "file_extension": ".py",
   "mimetype": "text/x-python",
   "name": "python",
   "nbconvert_exporter": "python",
   "pygments_lexer": "ipython2",
   "version": "2.7.6"
  }
 },
 "nbformat": 4,
 "nbformat_minor": 5
}
