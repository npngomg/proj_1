{
 "cells": [
  {
   "cell_type": "code",
   "id": "initial_id",
   "metadata": {
    "collapsed": true,
    "ExecuteTime": {
     "end_time": "2025-09-17T08:23:24.210092Z",
     "start_time": "2025-09-17T08:23:24.176544Z"
    }
   },
   "source": [
    "class Figure():\n",
    "    \"\"\"класс чтобы создать фигуры\"\"\"\n",
    "    def __new__(cls, *args, **kwargs):\n",
    "        return super(Figure, cls).__new__(cls)\n",
    "\n",
    "    def __init__(self, x=0, y=0):\n",
    "        self.x=x\n",
    "        self.y=y\n",
    "\n",
    "    color = 'black'\n",
    "    color_line = 'yellow'\n",
    "\n",
    "    def draw(self):\n",
    "        print(\"Рисуем фигуру\")\n",
    "\n",
    "    def __del__(self):\n",
    "        print('delet', self)\n",
    "\n",
    "class Rectangle(Figure):\n",
    "    def draw(self):\n",
    "        print('Рисуем прямоугольник')\n",
    "\n",
    "\n",
    "Fig_1 = Figure(1, 1)\n",
    "Rec_1 = Rectangle()\n",
    "Rec_1.draw()\n",
    "\n",
    "\n"
   ],
   "outputs": [
    {
     "name": "stdout",
     "output_type": "stream",
     "text": [
      "Рисуем прямоугольник\n"
     ]
    }
   ],
   "execution_count": 15
  }
 ],
 "metadata": {
  "kernelspec": {
   "display_name": "Python 3",
   "language": "python",
   "name": "python3"
  },
  "language_info": {
   "codemirror_mode": {
    "name": "ipython",
    "version": 2
   },
   "file_extension": ".py",
   "mimetype": "text/x-python",
   "name": "python",
   "nbconvert_exporter": "python",
   "pygments_lexer": "ipython2",
   "version": "2.7.6"
  }
 },
 "nbformat": 4,
 "nbformat_minor": 5
}
