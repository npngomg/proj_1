{
 "cells": [
  {
   "metadata": {},
   "cell_type": "markdown",
   "source": [
    "### Задание 1: Работа с булевыми значениями\n",
    "\n",
    "Создайте функцию `check_conditions`, которая принимает три булевых параметра и возвращает результат сложной логической операции:\n",
    "\n",
    "- Если все три параметра True, вернуть True\n",
    "- Если ровно два параметра True, вернуть False\n",
    "- Если ровно один параметр True, вернуть True\n",
    "- Если все параметры False, вернуть False\n",
    "\n",
    "Используйте только логические операторы `and`, `or`, `not`.\n"
   ],
   "id": "af1fe7b56ef08a11"
  },
  {
   "metadata": {
    "ExecuteTime": {
     "end_time": "2025-09-11T21:15:12.053079Z",
     "start_time": "2025-09-11T21:15:12.047375Z"
    }
   },
   "cell_type": "code",
   "source": [
    "def check_conditions(a: bool, b: bool,c: bool) -> bool:\n",
    "    if ((a and b and c) or  # все тру\n",
    "        (not a and not b and c) or # два из трех тру, все варианты\n",
    "        (not a and b and not c) or\n",
    "        (a and not b and not c)):\n",
    "        return True\n",
    "    else:\n",
    "        return False"
   ],
   "id": "21b8f16179152993",
   "outputs": [],
   "execution_count": 1
  },
  {
   "metadata": {},
   "cell_type": "markdown",
   "source": [
    "### Задание 2: Работа с числовыми типами\n",
    "\n",
    "Создайте функцию `calculate_quadratic_roots`, которая вычисляет корни квадратного уравнения ax² + bx + c = 0.\n",
    "\n",
    "Функция должна:\n",
    "- Принимать коэффициенты a, b, c как float\n",
    "- Возвращать кортеж с корнями уравнения\n",
    "- Обрабатывать случаи когда дискриминант отрицательный (возвращать None)\n",
    "- Использовать комплексные числа для отрицательного дискриминанта\n",
    "- Включать проверки входных данных\n"
   ],
   "id": "68ac792f6bfea6fa"
  },
  {
   "metadata": {
    "ExecuteTime": {
     "end_time": "2025-09-20T11:53:17.828796Z",
     "start_time": "2025-09-20T11:53:17.819629Z"
    }
   },
   "cell_type": "code",
   "source": [
    "import math\n",
    "from typing import Tuple, Union\n",
    "\n",
    "\n",
    "def calculate_quadratic_roots(a: float, b: float, c: float) -> Union[Tuple[float, float], Tuple[complex, complex], None]:\n",
    "    if a == 0:\n",
    "        return None\n",
    "    assert all(isinstance(i, (int, float)) for i in [a, b, c]), \"Все коэффициенты должны быть int или float\"\n",
    "    D:int | float =b**2-4*a*c  #вычисление дискриминанта\n",
    "    if D>=0:\n",
    "        return ((-b+math.sqrt(D))/(2*a), (-b-math.sqrt(D))/(2*a))\n",
    "\n",
    "    else:\n",
    "        real_part = -b / (2*a)\n",
    "        imag_part = math.sqrt(-D) / (2*a)\n",
    "        return (complex(real_part, imag_part), complex(real_part, -imag_part))\n",
    "\n",
    "print(calculate_quadratic_roots(1, -2, 1))"
   ],
   "id": "3f2ac4e52f173446",
   "outputs": [
    {
     "name": "stdout",
     "output_type": "stream",
     "text": [
      "(1.0, 1.0)\n"
     ]
    }
   ],
   "execution_count": 16
  },
  {
   "metadata": {},
   "cell_type": "markdown",
   "source": [
    "### Задание 3: Работа со списками и кортежами\n",
    "\n",
    "Создайте функцию `analyze_sequence`, которая анализирует последовательность чисел и возвращает статистику в виде именованного кортежа.\n",
    "\n",
    "Функция должна:\n",
    "- Принимать список чисел (int или float)\n",
    "- Вычислять: сумму, среднее, минимум, максимум, количество элементов\n",
    "- Возвращать результат как именованный кортеж\n",
    "- Обрабатывать пустой список (возвращать None)\n",
    "- Использовать только встроенные функции Python\n"
   ],
   "id": "9a202350dfd5e8ce"
  },
  {
   "metadata": {
    "ExecuteTime": {
     "end_time": "2025-09-20T11:22:14.609575Z",
     "start_time": "2025-09-20T11:22:14.596063Z"
    }
   },
   "cell_type": "code",
   "source": [
    "from collections import namedtuple\n",
    "from typing import Optional\n",
    "\n",
    "Stats = namedtuple('Stats', ['sum', 'average', 'min', 'max', 'count'])\n",
    "\n",
    "def analyze_sequence(args: list) -> Optional[Stats]:\n",
    "    if not args:\n",
    "        return None\n",
    "    else:\n",
    "        total = sum(args) #сумма элементов\n",
    "        avg = total / len(args) # среднее\n",
    "        minimum = min(args) # минимум\n",
    "        maximum = max(args) #максимум\n",
    "        count = len(args) # количество элементов\n",
    "        return Stats(total, avg, minimum, maximum, count)\n",
    "# Тесты для проверки\n",
    "print(\"Тесты для analyze_sequence:\")\n",
    "test_data = [1, 2, 3, 4, 5]\n",
    "print(analyze_sequence(test_data))\n",
    "\n"
   ],
   "id": "6fe752339275a46c",
   "outputs": [
    {
     "name": "stdout",
     "output_type": "stream",
     "text": [
      "Тесты для analyze_sequence:\n",
      "Stats(sum=15, average=3.0, min=1, max=5, count=5)\n"
     ]
    }
   ],
   "execution_count": 6
  },
  {
   "metadata": {},
   "cell_type": "markdown",
   "source": [
    "### Задание 4: Работа со строками\n",
    "\n",
    "Создайте функцию `format_person_info`, которая форматирует информацию о человеке в красивую строку.\n",
    "\n",
    "Функция должна:\n",
    "- Принимать имя, возраст, профессию и зарплату\n",
    "- Форматировать строку с выравниванием и ограничением точности для зарплаты\n",
    "- Обрабатывать случаи когда данные могут быть None\n",
    "- Возвращать отформатированную строку\n"
   ],
   "id": "e7addf79107c271"
  },
  {
   "metadata": {
    "ExecuteTime": {
     "end_time": "2025-09-20T12:37:43.262558Z",
     "start_time": "2025-09-20T12:37:43.240446Z"
    }
   },
   "cell_type": "code",
   "source": [
    "from typing import Optional\n",
    "\n",
    "def format_person_info(\n",
    "    name: Optional[str] = None,\n",
    "    age: Optional[int] = None,\n",
    "    profession: Optional[str] = None,\n",
    "    salary: Optional[float] = None\n",
    ") -> str:\n",
    "    \"\"\"Форматирует информацию о человеке, обрабатывая отсутствующие значения.\"\"\"\n",
    "\n",
    "    # Обработка возраста\n",
    "    if age is not None:\n",
    "        if age <= 0:\n",
    "            raise ValueError(\"Возраст не может быть меньше или равен 0\")\n",
    "        age_str = str(age)\n",
    "    else:\n",
    "        age_str = \"Не указано\"\n",
    "\n",
    "    # Обработка зарплаты\n",
    "    if salary is not None:\n",
    "        if salary < 0:\n",
    "            raise ValueError(\"Зарплата не может быть отрицательной\")\n",
    "        salary_str = f\"{salary:.2f}\"\n",
    "    else:\n",
    "        salary_str = \"Не указано\"\n",
    "\n",
    "    # Обработка имени и профессии\n",
    "    name_str = name if name else \"Не указано\"\n",
    "    profession_str = profession if profession else \"Не указано\"\n",
    "\n",
    "    # Форматирование\n",
    "    formatted_info = f\"\"\"\n",
    "    {'Имя:':<15} {name_str}\n",
    "    {'Возраст:':<15} {age_str}\n",
    "    {'Профессия:':<15} {profession_str}\n",
    "    {'Зарплата:':<15} {salary_str}\n",
    "    \"\"\"\n",
    "\n",
    "    return formatted_info"
   ],
   "id": "86cc80928c94263a",
   "outputs": [
    {
     "name": "stdout",
     "output_type": "stream",
     "text": [
      "\n",
      "    Имя:            Иван\n",
      "    Возраст:        25\n",
      "    Профессия:      Разработчик\n",
      "    Зарплата:       100000.50\n",
      "    \n",
      "\n",
      "    Имя:            Мария\n",
      "    Возраст:        Не указано\n",
      "    Профессия:      Дизайнер\n",
      "    Зарплата:       Не указано\n",
      "    \n"
     ]
    }
   ],
   "execution_count": 17
  },
  {
   "metadata": {},
   "cell_type": "markdown",
   "source": [
    "### Задание 5: Комплексная задача\n",
    "\n",
    "Создайте функцию `process_data`, которая обрабатывает список строк с данными о студентах и возвращает статистику.\n",
    "\n",
    "Каждая строка имеет формат: \"Имя,Возраст,Оценка1,Оценка2,Оценка3\"\n",
    "\n",
    "Функция должна:\n",
    "- Парсить строки и извлекать данные\n",
    "- Вычислять среднюю оценку для каждого студента\n",
    "- Находить лучшего и худшего студента по средней оценке\n",
    "- Возвращать результат в виде словаря с ключами: 'best_student', 'worst_student', 'average_grade'\n",
    "- Обрабатывать ошибки парсинга (пропускать некорректные строки)\n"
   ],
   "id": "a8245980f3b6a2bf"
  },
  {
   "metadata": {
    "ExecuteTime": {
     "end_time": "2025-09-20T13:18:07.893312Z",
     "start_time": "2025-09-20T13:18:07.879938Z"
    }
   },
   "cell_type": "code",
   "source": [
    "from typing import List, Dict, Optional\n",
    "\n",
    "# Тестовые данные\n",
    "students_data = [\n",
    "    \"Иван Петров,20,5,4,5\",\n",
    "    \"Мария Сидорова,19,3,4,3\",\n",
    "    \"Алексей Козлов,21,5,5,5\",\n",
    "    \"Анна Морозова,20,4,3,4\",\n",
    "    \"\",\n",
    "    \"Только имя\",\n",
    "    \"Петр Иванов,22,2,3,2\",\n",
    "    \"Некорректный возраст,abc,1,2,3\",\n",
    "    \"Екатерина Смирнова,23,4,4,4\",\n",
    "    \"С запятыми,,25,,3,4,5\",\n",
    "]\n",
    "\n",
    "def process_data(students_data: List[str]) -> Dict[str, Optional[Dict[str, str | float]] | float]:\n",
    "\n",
    "    students: List[Dict[str, str | int | float | list]] = []\n",
    "\n",
    "    for line in students_data:\n",
    "        try:\n",
    "            parts = line.strip().split(',')\n",
    "            if len(parts) < 5:\n",
    "                continue\n",
    "\n",
    "            name = parts[0].strip()\n",
    "            age = int(parts[1].strip())\n",
    "            grades = list(map(int, parts[2:5]))\n",
    "            average_grade = sum(grades) / len(grades)\n",
    "\n",
    "            students.append({\n",
    "                'name': name,\n",
    "                'age': age,\n",
    "                'grades': grades,\n",
    "                'average_grade': average_grade\n",
    "            })\n",
    "\n",
    "        except (ValueError, IndexError):\n",
    "            continue\n",
    "\n",
    "    if not students:\n",
    "        return {\n",
    "            'best_student': None,\n",
    "            'worst_student': None,\n",
    "            'average_grade': 0.0\n",
    "        }\n",
    "\n",
    "    best_student = max(students, key=lambda x: x['average_grade'])\n",
    "    worst_student = min(students, key=lambda x: x['average_grade'])\n",
    "    total_average = sum(student['average_grade'] for student in students) / len(students)\n",
    "\n",
    "    return {\n",
    "        'best_student': {\n",
    "            'name': best_student['name'],\n",
    "            'average_grade': round(best_student['average_grade'], 2)\n",
    "        },\n",
    "        'worst_student': {\n",
    "            'name': worst_student['name'],\n",
    "            'average_grade': round(worst_student['average_grade'], 2)\n",
    "        },\n",
    "        'average_grade': round(total_average, 2)\n",
    "    }\n",
    "\n",
    "# Тестирование\n",
    "result = process_data(students_data)\n",
    "print(\"Результат:\")\n",
    "print(f\"Лучший студент: {result['best_student']}\")\n",
    "print(f\"Худший студент: {result['worst_student']}\")\n",
    "print(f\"Средняя оценка: {result['average_grade']}\")\n"
   ],
   "id": "61aa3dd851dddda7",
   "outputs": [
    {
     "name": "stdout",
     "output_type": "stream",
     "text": [
      "Результат:\n",
      "Лучший студент: {'name': 'Алексей Козлов', 'average_grade': 5.0}\n",
      "Худший студент: {'name': 'Петр Иванов', 'average_grade': 2.33}\n",
      "Средняя оценка: 3.83\n"
     ]
    }
   ],
   "execution_count": 24
  },
  {
   "metadata": {},
   "cell_type": "markdown",
   "source": [
    "### Дополнительные задания для углубленного изучения\n",
    "\n",
    "Если вы успешно выполнили основные задания, попробуйте решить эти дополнительные задачи:\n",
    "\n",
    "1. **Задание 6**: Создайте функцию `create_matrix`, которая создает матрицу заданного размера и заполняет её по спирали числами от 1 до n².\n",
    "\n",
    "2. **Задание 7**: Реализуйте функцию `text_analyzer`, которая анализирует текст и возвращает статистику: количество слов, предложений, символов, самое длинное слово, частоту использования каждого символа.\n",
    "\n",
    "3. **Задание 8**: Создайте класс `NumberSequence` с методами для работы с числовыми последовательностями: добавление элементов, вычисление статистики, поиск паттернов.\n",
    "\n",
    "Помните: всегда используйте аннотирование типов, пишите понятные имена переменных и функций, добавляйте документацию к вашим функциям!\n"
   ],
   "id": "57337c6502e212bf"
  }
 ],
 "metadata": {
  "kernelspec": {
   "display_name": "Python 3",
   "language": "python",
   "name": "python3"
  },
  "language_info": {
   "codemirror_mode": {
    "name": "ipython",
    "version": 2
   },
   "file_extension": ".py",
   "mimetype": "text/x-python",
   "name": "python",
   "nbconvert_exporter": "python",
   "pygments_lexer": "ipython2",
   "version": "2.7.6"
  }
 },
 "nbformat": 4,
 "nbformat_minor": 5
}
