{
 "cells": [
  {
   "metadata": {},
   "cell_type": "markdown",
   "source": [
    "### Задание 1: Работа с булевыми значениями\n",
    "\n",
    "Создайте функцию `check_conditions`, которая принимает три булевых параметра и возвращает результат сложной логической операции:\n",
    "\n",
    "- Если все три параметра True, вернуть True\n",
    "- Если ровно два параметра True, вернуть False\n",
    "- Если ровно один параметр True, вернуть True\n",
    "- Если все параметры False, вернуть False\n",
    "\n",
    "Используйте только логические операторы `and`, `or`, `not`.\n"
   ],
   "id": "af1fe7b56ef08a11"
  },
  {
   "metadata": {
    "ExecuteTime": {
     "end_time": "2025-09-11T21:15:12.053079Z",
     "start_time": "2025-09-11T21:15:12.047375Z"
    }
   },
   "cell_type": "code",
   "source": [
    "def check_conditions(a: bool, b: bool,c: bool) -> bool:\n",
    "    if a and b and c or not a and not b and c or not a and b and not c or a and not b and not c:\n",
    "        return True\n",
    "    else:\n",
    "        return False"
   ],
   "id": "21b8f16179152993",
   "outputs": [],
   "execution_count": 1
  },
  {
   "metadata": {},
   "cell_type": "markdown",
   "source": [
    "### Задание 2: Работа с числовыми типами\n",
    "\n",
    "Создайте функцию `calculate_quadratic_roots`, которая вычисляет корни квадратного уравнения ax² + bx + c = 0.\n",
    "\n",
    "Функция должна:\n",
    "- Принимать коэффициенты a, b, c как float\n",
    "- Возвращать кортеж с корнями уравнения\n",
    "- Обрабатывать случаи когда дискриминант отрицательный (возвращать None)\n",
    "- Использовать комплексные числа для отрицательного дискриминанта\n",
    "- Включать проверки входных данных\n"
   ],
   "id": "68ac792f6bfea6fa"
  },
  {
   "metadata": {
    "ExecuteTime": {
     "end_time": "2025-09-11T22:05:52.574067Z",
     "start_time": "2025-09-11T22:05:52.560204Z"
    }
   },
   "cell_type": "code",
   "source": [
    "import math\n",
    "from typing import Tuple, Union\n",
    "\n",
    "\n",
    "def calculate_quadratic_roots(a: float, b: float, c: float) -> Union[Tuple[float, float], Tuple[complex, complex], None]:\n",
    "    try:\n",
    "        for i in range (a, b, c):\n",
    "            float(i)\n",
    "    except ValueError :\"Введенные коэффициенты должны быть типа float\"\n",
    "    for i in range (a, b, c):\n",
    "            if i==0:\n",
    "                return None\n",
    "    D=b**2-4*a*c\n",
    "    if D>=0:\n",
    "        return ((-b+math.sqrt(D))/(2*a), (-b-math.sqrt(D))/(2*a))\n",
    "\n",
    "    else:\n",
    "        real_part = -b / (2*a)\n",
    "        imag_part = math.sqrt(-D) / (2*a)\n",
    "        return (complex(real_part, imag_part), complex(real_part, -imag_part))\n"
   ],
   "id": "3f2ac4e52f173446",
   "outputs": [
    {
     "name": "stdout",
     "output_type": "stream",
     "text": [
      "Тесты для calculate_quadratic_roots:\n",
      "x² - 5x + 6 = 0: (3.0, 2.0)\n",
      "x² - 4x + 4 = 0: (2.0, 2.0)\n",
      "x² + x + 1 = 0: ((-0.5+0.8660254037844386j), (-0.5-0.8660254037844386j))\n",
      "0x² + 2x + 1 = 0: None\n"
     ]
    }
   ],
   "execution_count": 25
  },
  {
   "metadata": {},
   "cell_type": "markdown",
   "source": [
    "### Задание 3: Работа со списками и кортежами\n",
    "\n",
    "Создайте функцию `analyze_sequence`, которая анализирует последовательность чисел и возвращает статистику в виде именованного кортежа.\n",
    "\n",
    "Функция должна:\n",
    "- Принимать список чисел (int или float)\n",
    "- Вычислять: сумму, среднее, минимум, максимум, количество элементов\n",
    "- Возвращать результат как именованный кортеж\n",
    "- Обрабатывать пустой список (возвращать None)\n",
    "- Использовать только встроенные функции Python\n"
   ],
   "id": "9a202350dfd5e8ce"
  },
  {
   "metadata": {
    "ExecuteTime": {
     "end_time": "2025-09-11T22:44:03.409625Z",
     "start_time": "2025-09-11T22:44:03.396997Z"
    }
   },
   "cell_type": "code",
   "source": [
    "from collections import namedtuple\n",
    "from typing import Optional\n",
    "\n",
    "Stats = namedtuple('Stats', ['sum', 'average', 'min', 'max', 'count'])\n",
    "\n",
    "def analyze_sequence(args: int) -> Optional[Stats]:\n",
    "    if not args:\n",
    "        return None\n",
    "    else:\n",
    "        total = sum(args)\n",
    "        avg = total / len(args)\n",
    "        minimum = min(args)\n",
    "        maximum = max(args)\n",
    "        count = len(args)\n",
    "        return Stats(total, avg, minimum, maximum, count)\n",
    "# Тесты для проверки\n",
    "print(\"Тесты для analyze_sequence:\")\n",
    "test_data = [1, 2, 3, 4, 5]\n",
    "print(analyze_sequence(test_data))\n",
    "\n"
   ],
   "id": "6fe752339275a46c",
   "outputs": [
    {
     "name": "stdout",
     "output_type": "stream",
     "text": [
      "Тесты для analyze_sequence:\n",
      "Stats(sum=15, average=3.0, min=1, max=5, count=5)\n"
     ]
    }
   ],
   "execution_count": 34
  },
  {
   "metadata": {},
   "cell_type": "markdown",
   "source": [
    "### Задание 4: Работа со строками\n",
    "\n",
    "Создайте функцию `format_person_info`, которая форматирует информацию о человеке в красивую строку.\n",
    "\n",
    "Функция должна:\n",
    "- Принимать имя, возраст, профессию и зарплату\n",
    "- Форматировать строку с выравниванием и ограничением точности для зарплаты\n",
    "- Обрабатывать случаи когда данные могут быть None\n",
    "- Возвращать отформатированную строку\n"
   ],
   "id": "e7addf79107c271"
  },
  {
   "metadata": {
    "ExecuteTime": {
     "end_time": "2025-09-12T02:33:28.637997Z",
     "start_time": "2025-09-12T02:33:28.612076Z"
    }
   },
   "cell_type": "code",
   "source": [
    "from typing import Optional\n",
    "\n",
    "def format_person_info(name: str, age: int, profession: str, salary: float) -> str:\n",
    "\n",
    "    # Обрабатываем None значения\n",
    "    name = name if name is not None else \"Не указано\"\n",
    "    age = age if age is not None else \"Не указано\"\n",
    "    profession = profession if profession is not None else \"Не указано\"\n",
    "    salary = salary if salary is not None else \"Не указано\"\n",
    "\n",
    "    # Форматируем зарплату (если это число)\n",
    "    if isinstance(salary, (int, float)):\n",
    "        salary = f\"{salary:,.2f} руб.\"  # Формат с тысячными разделителями и 2 знаками после запятой\n",
    "\n",
    "    # Создаем отформатированную строку с выравниванием\n",
    "    formatted_info = f\"\"\"\n",
    "    {'Имя:':<15} {name}\n",
    "    {'Возраст:':<15} {age}\n",
    "    {'Профессия:':<15} {profession}\n",
    "    {'Зарплата:':<15} {salary}\n",
    "    \"\"\"\n",
    "\n",
    "    return formatted_info\n",
    "# Тесты для проверки\n",
    "print(\"Тесты для format_person_info:\")\n",
    "print(format_person_info(\"Иван Петров\", 30, \"Программист\", 150000.567))\n",
    "print(format_person_info(\"Мария\", 25, None, 120000))\n",
    "print(format_person_info(None, 35, \"Дизайнер\", None))\n",
    "print(format_person_info(\"Алексей\", None, \"Менеджер\", 95000.123))\n"
   ],
   "id": "86cc80928c94263a",
   "outputs": [
    {
     "name": "stdout",
     "output_type": "stream",
     "text": [
      "Тесты для format_person_info:\n",
      "\n",
      "    Имя:            Иван Петров\n",
      "    Возраст:        30\n",
      "    Профессия:      Программист\n",
      "    Зарплата:       150,000.57 руб.\n",
      "    \n",
      "\n",
      "    Имя:            Мария\n",
      "    Возраст:        25\n",
      "    Профессия:      Не указано\n",
      "    Зарплата:       120,000.00 руб.\n",
      "    \n",
      "\n",
      "    Имя:            Не указано\n",
      "    Возраст:        35\n",
      "    Профессия:      Дизайнер\n",
      "    Зарплата:       Не указано\n",
      "    \n",
      "\n",
      "    Имя:            Алексей\n",
      "    Возраст:        Не указано\n",
      "    Профессия:      Менеджер\n",
      "    Зарплата:       95,000.12 руб.\n",
      "    \n"
     ]
    }
   ],
   "execution_count": 35
  },
  {
   "metadata": {},
   "cell_type": "markdown",
   "source": [
    "### Задание 5: Комплексная задача\n",
    "\n",
    "Создайте функцию `process_data`, которая обрабатывает список строк с данными о студентах и возвращает статистику.\n",
    "\n",
    "Каждая строка имеет формат: \"Имя,Возраст,Оценка1,Оценка2,Оценка3\"\n",
    "\n",
    "Функция должна:\n",
    "- Парсить строки и извлекать данные\n",
    "- Вычислять среднюю оценку для каждого студента\n",
    "- Находить лучшего и худшего студента по средней оценке\n",
    "- Возвращать результат в виде словаря с ключами: 'best_student', 'worst_student', 'average_grade'\n",
    "- Обрабатывать ошибки парсинга (пропускать некорректные строки)\n"
   ],
   "id": "a8245980f3b6a2bf"
  },
  {
   "metadata": {
    "ExecuteTime": {
     "end_time": "2025-09-12T02:57:06.135994Z",
     "start_time": "2025-09-12T02:57:06.075047Z"
    }
   },
   "cell_type": "code",
   "source": [
    "from typing import List, Dict, Any\n",
    "\n",
    "from typing import List, Dict, Any\n",
    "\n",
    "def process_data(students_data: List[str]) -> Dict[str, Any]:\n",
    "\n",
    "    students = []\n",
    "\n",
    "    for line in students_data:\n",
    "        try:\n",
    "            # Парсим строку\n",
    "            parts = line.strip().split(',')\n",
    "            if len(parts) < 5:  # Проверяем, что достаточно данных\n",
    "                continue\n",
    "\n",
    "            name = parts[0].strip()\n",
    "            age = int(parts[1].strip())\n",
    "            grades = list(map(int, parts[2:5]))  # Преобразуем оценки в числа\n",
    "            average_grade = sum(grades) / len(grades)\n",
    "\n",
    "            # Добавляем студента в список\n",
    "            students.append({\n",
    "                'name': name,\n",
    "                'age': age,\n",
    "                'grades': grades,\n",
    "                'average_grade': average_grade\n",
    "            })\n",
    "\n",
    "        except (ValueError, IndexError):\n",
    "            continue\n",
    "\n",
    "    # Если нет корректных данных\n",
    "    if not students:\n",
    "        return {\n",
    "            'best_student': None,\n",
    "            'worst_student': None,\n",
    "            'average_grade': 0\n",
    "        }\n",
    "\n",
    "    # Находим лучшего и худшего студента\n",
    "    best_student = max(students, key=lambda x: x['average_grade'])\n",
    "    worst_student = min(students, key=lambda x: x['average_grade'])\n",
    "\n",
    "    # Вычисляем общую среднюю оценку\n",
    "    total_average = sum(student['average_grade'] for student in students) / len(students)\n",
    "\n",
    "    return {\n",
    "        'best_student': {\n",
    "            'name': best_student['name'],\n",
    "            'average_grade': round(best_student['average_grade'], 2)\n",
    "        },\n",
    "        'worst_student': {\n",
    "            'name': worst_student['name'],\n",
    "            'average_grade': round(worst_student['average_grade'], 2)\n",
    "        },\n",
    "        'average_grade': round(total_average, 2)\n",
    "    }\n",
    "test_students = [\n",
    "    \"Иван Петров,20,5,4,5\",\n",
    "    \"Мария Сидорова,19,3,4,3\",\n",
    "    \"Алексей Козлов,21,5,5,5\",\n",
    "    \"Анна Морозова,20,4,3,4\",\n",
    "    \"Некорректная строка\",\n",
    "    \"Петр Иванов,22,2,3,2\"\n",
    "]\n"
   ],
   "id": "61aa3dd851dddda7",
   "outputs": [],
   "execution_count": 38
  },
  {
   "metadata": {},
   "cell_type": "markdown",
   "source": [
    "### Дополнительные задания для углубленного изучения\n",
    "\n",
    "Если вы успешно выполнили основные задания, попробуйте решить эти дополнительные задачи:\n",
    "\n",
    "1. **Задание 6**: Создайте функцию `create_matrix`, которая создает матрицу заданного размера и заполняет её по спирали числами от 1 до n².\n",
    "\n",
    "2. **Задание 7**: Реализуйте функцию `text_analyzer`, которая анализирует текст и возвращает статистику: количество слов, предложений, символов, самое длинное слово, частоту использования каждого символа.\n",
    "\n",
    "3. **Задание 8**: Создайте класс `NumberSequence` с методами для работы с числовыми последовательностями: добавление элементов, вычисление статистики, поиск паттернов.\n",
    "\n",
    "Помните: всегда используйте аннотирование типов, пишите понятные имена переменных и функций, добавляйте документацию к вашим функциям!\n"
   ],
   "id": "57337c6502e212bf"
  }
 ],
 "metadata": {
  "kernelspec": {
   "display_name": "Python 3",
   "language": "python",
   "name": "python3"
  },
  "language_info": {
   "codemirror_mode": {
    "name": "ipython",
    "version": 2
   },
   "file_extension": ".py",
   "mimetype": "text/x-python",
   "name": "python",
   "nbconvert_exporter": "python",
   "pygments_lexer": "ipython2",
   "version": "2.7.6"
  }
 },
 "nbformat": 4,
 "nbformat_minor": 5
}
